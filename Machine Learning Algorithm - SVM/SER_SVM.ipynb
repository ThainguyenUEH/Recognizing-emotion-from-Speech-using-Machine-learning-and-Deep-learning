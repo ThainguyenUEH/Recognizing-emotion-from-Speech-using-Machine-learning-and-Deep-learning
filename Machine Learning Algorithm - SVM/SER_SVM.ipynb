{
  "cells": [
    {
      "cell_type": "code",
      "execution_count": 49,
      "metadata": {
        "colab": {},
        "colab_type": "code",
        "id": "VZWf5RDrO8Ta"
      },
      "outputs": [],
      "source": [
        "import pandas as pd\n",
        "import numpy as np"
      ]
    },
    {
      "cell_type": "code",
      "execution_count": 50,
      "metadata": {
        "colab": {
          "base_uri": "https://localhost:8080/",
          "height": 170
        },
        "colab_type": "code",
        "id": "5JBkWhfnQQDt",
        "outputId": "8d719b31-f9b8-4904-9d16-4c69e1fd9027"
      },
      "outputs": [
        {
          "name": "stdout",
          "output_type": "stream",
          "text": [
            "data loaded in 0.04165148735046387ms\n",
            "   Unnamed: 0           0          1          2          3          4  \\\n",
            "0        3271 -407.818512  75.580315 -11.852915  31.199961 -16.573090   \n",
            "1        2217 -490.924561  68.167824 -37.364124  12.552231  10.389737   \n",
            "2        2592 -529.380249  95.826050  23.742424  14.620595  12.306251   \n",
            "3        1999 -425.575470  96.207855  22.187384 -11.168184 -12.332258   \n",
            "4        1813 -334.018585  33.773918 -12.455565  10.638281 -24.166931   \n",
            "\n",
            "           5          6          7          8  ...         31         32  \\\n",
            "0  -0.078748 -19.233414 -16.123476 -11.136886  ...   6.114078   2.679012   \n",
            "1 -25.860634 -12.941109  -0.182181 -16.258718  ...  -0.760857  -3.610590   \n",
            "2  16.722519 -14.065591 -16.775555 -16.231932  ...  10.309093  12.838900   \n",
            "3   1.849848 -13.793641   5.021161 -27.955351  ...   0.103434   1.148743   \n",
            "4   2.093608 -19.775921  -1.650169 -18.283426  ...  10.601710   5.131336   \n",
            "\n",
            "          33        34        35         36         37         38         39  \\\n",
            "0   2.425698  2.856661 -1.094635   4.984156   1.410012   6.676675   3.877725   \n",
            "1  -1.587505 -1.682563 -0.394036   5.214159   5.643189   9.103164   7.102725   \n",
            "2  11.613511  9.688628  6.541068  12.098082  13.072272   8.871689  10.364815   \n",
            "3  -1.751692  5.743082  7.703989  14.188169  17.471836  17.150370  13.509791   \n",
            "4   4.419236  5.268477  2.941714   0.323728   3.432342   1.795846   1.221627   \n",
            "\n",
            "     emotion  \n",
            "0    disgust  \n",
            "1      happy  \n",
            "2        sad  \n",
            "3  surprised  \n",
            "4  surprised  \n",
            "\n",
            "[5 rows x 42 columns]\n"
          ]
        }
      ],
      "source": [
        "import time\n",
        "\n",
        "starting_time = time.time()\n",
        "data = pd.read_csv('C:/Users/ACER/Downloads/CNDMCK/Machine Learning Algorithm - SVM/RAVTESS_MFCC_Observed.csv')\n",
        "print(\"data loaded in \" + str(time.time()-starting_time) + \"ms\")\n",
        "\n",
        "print(data.head())"
      ]
    },
    {
      "cell_type": "code",
      "execution_count": 51,
      "metadata": {
        "colab": {
          "base_uri": "https://localhost:8080/",
          "height": 34
        },
        "colab_type": "code",
        "id": "Gnn24ErtQXIM",
        "outputId": "710ff011-0a32-4050-e7d5-fb9fd820e34e"
      },
      "outputs": [
        {
          "data": {
            "text/plain": [
              "(4628, 42)"
            ]
          },
          "execution_count": 51,
          "metadata": {},
          "output_type": "execute_result"
        }
      ],
      "source": [
        "data.shape"
      ]
    },
    {
      "cell_type": "code",
      "execution_count": 52,
      "metadata": {
        "colab": {
          "base_uri": "https://localhost:8080/",
          "height": 102
        },
        "colab_type": "code",
        "id": "6UlGjAhtlhl2",
        "outputId": "5146eb7a-e950-416c-d28e-412f40cb7313"
      },
      "outputs": [
        {
          "data": {
            "text/plain": [
              "Index(['Unnamed: 0', '0', '1', '2', '3', '4', '5', '6', '7', '8', '9', '10',\n",
              "       '11', '12', '13', '14', '15', '16', '17', '18', '19', '20', '21', '22',\n",
              "       '23', '24', '25', '26', '27', '28', '29', '30', '31', '32', '33', '34',\n",
              "       '35', '36', '37', '38', '39', 'emotion'],\n",
              "      dtype='object')"
            ]
          },
          "execution_count": 52,
          "metadata": {},
          "output_type": "execute_result"
        }
      ],
      "source": [
        "#printing all columns\n",
        "data.columns"
      ]
    },
    {
      "cell_type": "code",
      "execution_count": 53,
      "metadata": {
        "colab": {},
        "colab_type": "code",
        "id": "7T9PgDj1luY1"
      },
      "outputs": [],
      "source": [
        "#dropping the column Unnamed: 0 to removed shuffled index\n",
        "data = data.drop('Unnamed: 0',axis=1)"
      ]
    },
    {
      "cell_type": "code",
      "execution_count": 54,
      "metadata": {
        "colab": {
          "base_uri": "https://localhost:8080/",
          "height": 102
        },
        "colab_type": "code",
        "id": "9XYzHT00l1vu",
        "outputId": "b0b2da96-31af-430b-cc33-6038c9348681"
      },
      "outputs": [
        {
          "data": {
            "text/plain": [
              "Index(['0', '1', '2', '3', '4', '5', '6', '7', '8', '9', '10', '11', '12',\n",
              "       '13', '14', '15', '16', '17', '18', '19', '20', '21', '22', '23', '24',\n",
              "       '25', '26', '27', '28', '29', '30', '31', '32', '33', '34', '35', '36',\n",
              "       '37', '38', '39', 'emotion'],\n",
              "      dtype='object')"
            ]
          },
          "execution_count": 54,
          "metadata": {},
          "output_type": "execute_result"
        }
      ],
      "source": [
        "data.columns"
      ]
    },
    {
      "cell_type": "code",
      "execution_count": 55,
      "metadata": {
        "colab": {},
        "colab_type": "code",
        "id": "dFz_djRCj8-7"
      },
      "outputs": [],
      "source": [
        "#separating features and target outputs\n",
        "X = data.drop('emotion', axis = 1).values\n",
        "y = data['emotion'].values"
      ]
    },
    {
      "cell_type": "markdown",
      "metadata": {
        "colab_type": "text",
        "id": "gmyFS7Ajj4PZ"
      },
      "source": [
        "## SVM\n",
        "\n",
        "Implementing SVM with Scikit-Learn"
      ]
    },
    {
      "cell_type": "code",
      "execution_count": 56,
      "metadata": {
        "colab": {},
        "colab_type": "code",
        "id": "pq5mN2XzkAj_"
      },
      "outputs": [
        {
          "data": {
            "image/png": "[encoded data removed]",
            "text/plain": [
              "<Figure size 640x480 with 1 Axes>"
            ]
          },
          "metadata": {},
          "output_type": "display_data"
        }
      ],
      "source": [
        "%matplotlib inline\n",
        "import matplotlib.pyplot as plt\n",
        "import numpy as np\n",
        "\n",
        "x = np.linspace(0, 10, 100)\n",
        "y = np.sin(x)\n",
        "\n",
        "plt.plot(x, y)\n",
        "plt.title(\"Sin paragraph\")\n",
        "plt.show() \n"
      ]
    },
    {
      "cell_type": "code",
      "execution_count": 57,
      "metadata": {
        "colab": {
          "base_uri": "https://localhost:8080/",
          "height": 34
        },
        "colab_type": "code",
        "id": "4j5u2-2YkEce",
        "outputId": "58c5c4ce-99a2-41f8-b9e5-01843cf363ac"
      },
      "outputs": [
        {
          "name": "stdout",
          "output_type": "stream",
          "text": [
            "            0          1          2          3          4          5  \\\n",
            "0 -407.818512  75.580315 -11.852915  31.199961 -16.573090  -0.078748   \n",
            "1 -490.924561  68.167824 -37.364124  12.552231  10.389737 -25.860634   \n",
            "2 -529.380249  95.826050  23.742424  14.620595  12.306251  16.722519   \n",
            "3 -425.575470  96.207855  22.187384 -11.168184 -12.332258   1.849848   \n",
            "4 -334.018585  33.773918 -12.455565  10.638281 -24.166931   2.093608   \n",
            "\n",
            "           6          7          8          9  ...         31         32  \\\n",
            "0 -19.233414 -16.123476 -11.136886   2.904638  ...   6.114078   2.679012   \n",
            "1 -12.941109  -0.182181 -16.258718  -6.914003  ...  -0.760857  -3.610590   \n",
            "2 -14.065591 -16.775555 -16.231932   8.377729  ...  10.309093  12.838900   \n",
            "3 -13.793641   5.021161 -27.955351   5.088210  ...   0.103434   1.148743   \n",
            "4 -19.775921  -1.650169 -18.283426  11.165318  ...  10.601710   5.131336   \n",
            "\n",
            "          33        34        35         36         37         38         39  \\\n",
            "0   2.425698  2.856661 -1.094635   4.984156   1.410012   6.676675   3.877725   \n",
            "1  -1.587505 -1.682563 -0.394036   5.214159   5.643189   9.103164   7.102725   \n",
            "2  11.613511  9.688628  6.541068  12.098082  13.072272   8.871689  10.364815   \n",
            "3  -1.751692  5.743082  7.703989  14.188169  17.471836  17.150370  13.509791   \n",
            "4   4.419236  5.268477  2.941714   0.323728   3.432342   1.795846   1.221627   \n",
            "\n",
            "     emotion  \n",
            "0    disgust  \n",
            "1      happy  \n",
            "2        sad  \n",
            "3  surprised  \n",
            "4  surprised  \n",
            "\n",
            "[5 rows x 41 columns]\n",
            "Index(['0', '1', '2', '3', '4', '5', '6', '7', '8', '9', '10', '11', '12',\n",
            "       '13', '14', '15', '16', '17', '18', '19', '20', '21', '22', '23', '24',\n",
            "       '25', '26', '27', '28', '29', '30', '31', '32', '33', '34', '35', '36',\n",
            "       '37', '38', '39', 'emotion'],\n",
            "      dtype='object')\n"
          ]
        }
      ],
      "source": [
        "X.shape, y.shape\n",
        "#print(\"Unique labels in y:\", np.unique(y))\n",
        "print(data.head())\n",
        "print(data.columns)\n"
      ]
    },
    {
      "cell_type": "code",
      "execution_count": 58,
      "metadata": {
        "colab": {
          "base_uri": "https://localhost:8080/",
          "height": 51
        },
        "colab_type": "code",
        "id": "rzaQWvXjkG6a",
        "outputId": "b2e2158e-d00b-4341-c2dd-b1fd2a8b2200"
      },
      "outputs": [
        {
          "data": {
            "text/plain": [
              "array([-0.99938456, -0.99782778, -0.99075324, -0.98609877, -0.97202182,\n",
              "       -0.96431712, -0.94338126, -0.93270486, -0.90512352, -0.89158426,\n",
              "       -0.85763861, -0.84137452, -0.80141062, -0.7825875 , -0.73701276,\n",
              "       -0.7158225 , -0.66510151, -0.64176014, -0.58640998, -0.56115544,\n",
              "       -0.54402111, -0.50174037, -0.47483011, -0.45663749, -0.41195583,\n",
              "       -0.38366419, -0.36459873, -0.31797166, -0.28858706, -0.26884313,\n",
              "       -0.22074597, -0.19056796, -0.17034683, -0.12126992, -0.09060615,\n",
              "       -0.07011396, -0.0205576 ,  0.        ,  0.01027934,  0.03083368,\n",
              "        0.0803643 ,  0.10083842,  0.11106004,  0.13146699,  0.18046693,\n",
              "        0.20064886,  0.21070855,  0.23076008,  0.27872982,  0.2984138 ,\n",
              "        0.30820902,  0.32770071,  0.37415123,  0.39313661,  0.40256749,\n",
              "        0.42130064,  0.46575841,  0.48385164,  0.49282204,  0.51060568,\n",
              "        0.55261747,  0.56963411,  0.57805259,  0.59470541,  0.63384295,\n",
              "        0.64960951,  0.65739025,  0.6727425 ,  0.7086068 ,  0.72296256,\n",
              "        0.73002623,  0.74392141,  0.77614685,  0.78894546,  0.79522006,\n",
              "        0.8075165 ,  0.83577457,  0.84688556,  0.85230712,  0.86287948,\n",
              "        0.8868821 ,  0.8961922 ,  0.90070545,  0.90944594,  0.92894843,\n",
              "        0.93636273,  0.93992165,  0.94674118,  0.96154471,  0.96698762,\n",
              "        0.96955595,  0.97438499,  0.98433866,  0.98775469,  0.98930624,\n",
              "        0.99209556,  0.99709789,  0.99845223,  0.99897117,  0.99969234])"
            ]
          },
          "execution_count": 58,
          "metadata": {},
          "output_type": "execute_result"
        }
      ],
      "source": [
        "np.unique(y)"
      ]
    },
    {
      "cell_type": "markdown",
      "metadata": {
        "colab_type": "text",
        "id": "qFIOIBCmkOof"
      },
      "source": [
        "X variable contains attributes while y variable contains corresponding labels.\n",
        "\n",
        "Once the data is divided into attributes and labels, the final preprocessing step is to divide data into training and test sets. The model_selection library of the Scikit-Learn library contains the train_test_split method that allows us to divide data into training and test sets."
      ]
    },
    {
      "cell_type": "code",
      "execution_count": 59,
      "metadata": {
        "colab": {},
        "colab_type": "code",
        "id": "y-rWEbnjkI3z"
      },
      "outputs": [
        {
          "name": "stdout",
          "output_type": "stream",
          "text": [
            "Unique labels (encoded): [0 1 2 3 4 5 6 7]\n",
            "Label classes: ['angry' 'calm' 'disgust' 'fear' 'happy' 'neutral' 'sad' 'surprised']\n"
          ]
        }
      ],
      "source": [
        "from sklearn.model_selection import train_test_split\n",
        "from sklearn.preprocessing import LabelEncoder\n",
        "\n",
        "# Encode emotion labels\n",
        "le = LabelEncoder()\n",
        "data['emotion'] = le.fit_transform(data['emotion'])\n",
        "\n",
        "X = data.drop('emotion', axis=1).values\n",
        "y = data['emotion'].values\n",
        "\n",
        "print(\"Unique labels (encoded):\", np.unique(y))\n",
        "print(\"Label classes:\", le.classes_)\n",
        "\n",
        "X_train, X_test, y_train, y_test = train_test_split(X, y, test_size=0.2)\n",
        "\n"
      ]
    },
    {
      "cell_type": "markdown",
      "metadata": {
        "colab_type": "text",
        "id": "2jBVxf-ZkTSd"
      },
      "source": [
        "It is the time to train our SVM on the training data. Scikit-Learn contains the svm library, which contains built-in classes for different SVM algorithms. Since we are going to perform a classification task, we will use the support vector classifier class, which is written as SVC in the Scikit-Learn's svm library. We have set the kernel to linear."
      ]
    },
    {
      "cell_type": "code",
      "execution_count": 60,
      "metadata": {
        "colab": {},
        "colab_type": "code",
        "id": "viKFlbezkSll"
      },
      "outputs": [],
      "source": [
        "from sklearn.svm import SVC\n",
        "\n",
        "svclassifier = SVC(kernel = 'linear')"
      ]
    },
    {
      "cell_type": "markdown",
      "metadata": {
        "colab_type": "text",
        "id": "obFMZPWqIs3C"
      },
      "source": [
        "The fit method of SVC class is called to train the algorithm on the training data, which is passed as a parameter to the fit method. Execute the following code to train the algorithm:"
      ]
    },
    {
      "cell_type": "code",
      "execution_count": 61,
      "metadata": {
        "colab": {},
        "colab_type": "code",
        "id": "LZnkHUkZkX1A"
      },
      "outputs": [
        {
          "name": "stdout",
          "output_type": "stream",
          "text": [
            "Trained model in 4.933996677398682 ms \n"
          ]
        }
      ],
      "source": [
        "import time\n",
        "\n",
        "starting_time = time.time()\n",
        "svclassifier.fit(X_train, y_train)\n",
        "print(\"Trained model in %s ms \" % str(time.time() - starting_time))"
      ]
    },
    {
      "cell_type": "markdown",
      "metadata": {
        "colab_type": "text",
        "id": "KXvzYeXYkaMb"
      },
      "source": [
        "To make predictions, the predict method of the SVC class is used."
      ]
    },
    {
      "cell_type": "code",
      "execution_count": 62,
      "metadata": {
        "colab": {},
        "colab_type": "code",
        "id": "pUad4lXgkdZR"
      },
      "outputs": [],
      "source": [
        "y_pred = svclassifier.predict(X_test)"
      ]
    },
    {
      "cell_type": "markdown",
      "metadata": {
        "colab_type": "text",
        "id": "dRd8zm49kfwn"
      },
      "source": [
        "Confusion matrix, precision, recall, and F1 measures are the most commonly used metrics for classification tasks. Scikit-Learn's metrics library contains the classification_report and confusion_matrix methods, which can be readily used to find out the values for these important metrics.\n",
        "We have used the following code for finding these metrics:"
      ]
    },
    {
      "cell_type": "code",
      "execution_count": 63,
      "metadata": {
        "colab": {},
        "colab_type": "code",
        "id": "6qfbWKKzku_Z"
      },
      "outputs": [
        {
          "name": "stdout",
          "output_type": "stream",
          "text": [
            "              precision    recall  f1-score   support\n",
            "\n",
            "           0       0.91      0.93      0.92       149\n",
            "           1       0.88      0.85      0.87        27\n",
            "           2       0.93      0.99      0.96       114\n",
            "           3       0.84      0.89      0.86       132\n",
            "           4       0.92      0.90      0.91       133\n",
            "           5       0.99      0.96      0.97       117\n",
            "           6       0.94      0.84      0.89       133\n",
            "           7       0.98      1.00      0.99       121\n",
            "\n",
            "    accuracy                           0.93       926\n",
            "   macro avg       0.93      0.92      0.92       926\n",
            "weighted avg       0.93      0.93      0.93       926\n",
            "\n",
            "----accuracy score 92.65658747300216 ----\n"
          ]
        },
        {
          "data": {
            "image/png": "[encoded data removed]",
            "text/plain": [
              "<Figure size 640x480 with 2 Axes>"
            ]
          },
          "metadata": {},
          "output_type": "display_data"
        }
      ],
      "source": [
        "from sklearn.metrics import classification_report, confusion_matrix,accuracy_score\n",
        "import seaborn as sn\n",
        "\n",
        "print(classification_report(y_test,y_pred))\n",
        "\n",
        "acc = float(accuracy_score(y_test,y_pred))*100\n",
        "print(\"----accuracy score %s ----\" % acc)\n",
        "\n",
        "cm = confusion_matrix(y_test,y_pred)\n",
        "df_cm = pd.DataFrame(cm)\n",
        "sn.heatmap(df_cm, annot=True, fmt='')\n",
        "plt.show()"
      ]
    },
    {
      "cell_type": "markdown",
      "metadata": {
        "colab_type": "text",
        "id": "XADzC5Cbkx6a"
      },
      "source": [
        "Now by calculating the training accuracy and comparing with testing accuracy, we can check for overfitting of data"
      ]
    },
    {
      "cell_type": "code",
      "execution_count": 64,
      "metadata": {
        "colab": {},
        "colab_type": "code",
        "id": "cPupL1MfjMVQ"
      },
      "outputs": [
        {
          "name": "stdout",
          "output_type": "stream",
          "text": [
            "----train accuracy score 96.97460831982711 ----\n",
            "----test accuracy score 92.65658747300216 ----\n"
          ]
        }
      ],
      "source": [
        "train_acc = float(svclassifier.score(X_train, y_train)*100)\n",
        "print(\"----train accuracy score %s ----\" % train_acc)\n",
        "\n",
        "test_acc = float(svclassifier.score(X_test, y_test)*100)\n",
        "print(\"----test accuracy score %s ----\" % test_acc)"
      ]
    },
    {
      "cell_type": "markdown",
      "metadata": {
        "colab_type": "text",
        "id": "0kWl4SbrtiUP"
      },
      "source": [
        "## Cross-Validation"
      ]
    },
    {
      "cell_type": "markdown",
      "metadata": {
        "colab_type": "text",
        "id": "SIsvihdMJDYO"
      },
      "source": [
        "5-fold cross validation of the dataset with the SVC classifier."
      ]
    },
    {
      "cell_type": "code",
      "execution_count": 65,
      "metadata": {
        "colab": {},
        "colab_type": "code",
        "id": "K8JwrWJ_k6qN"
      },
      "outputs": [
        {
          "name": "stdout",
          "output_type": "stream",
          "text": [
            "[0.93952484 0.92548596 0.94168467 0.93621622 0.93081081]\n"
          ]
        }
      ],
      "source": [
        "from sklearn.model_selection import cross_val_score\n",
        "\n",
        "# no. of folds cv = 5\n",
        "cv_results = cross_val_score(svclassifier, X, y, cv = 5)\n",
        "print(cv_results)"
      ]
    },
    {
      "cell_type": "markdown",
      "metadata": {
        "colab_type": "text",
        "id": "1x2ICDUKtows"
      },
      "source": [
        "## Scaling \n",
        "\n",
        "When performing the linear SVM classification, it is often helpful to normalize the training data, for example by subtracting the mean and dividing by the standard deviation, and afterwards scale the test data with the mean and standard deviation of training data."
      ]
    },
    {
      "cell_type": "code",
      "execution_count": 66,
      "metadata": {
        "colab": {
          "base_uri": "https://localhost:8080/",
          "height": 51
        },
        "colab_type": "code",
        "id": "OKhK1aW_trnZ",
        "outputId": "c1cf528c-cbb1-4760-d5c1-edf7651a12c0"
      },
      "outputs": [
        {
          "name": "stdout",
          "output_type": "stream",
          "text": [
            "Accuracy with Scaling: 0.9740820734341252\n",
            "Accuracy without Scaling: 0.9341252699784017\n"
          ]
        }
      ],
      "source": [
        "from sklearn.model_selection import train_test_split\n",
        "from sklearn.preprocessing import StandardScaler\n",
        "from sklearn.pipeline import Pipeline\n",
        "from sklearn.svm import SVC\n",
        "\n",
        "\n",
        "#splitting dataset into train/ test sets\n",
        "X_train, X_test, y_train, y_test = train_test_split(X, y, test_size = 0.20)\n",
        "\n",
        "# Setup the pipeline steps: steps\n",
        "steps = [('scaler', StandardScaler()),\n",
        "        ('SVM', SVC())]\n",
        "        \n",
        "# Create the pipeline: pipeline\n",
        "pipeline = Pipeline(steps)\n",
        "\n",
        "# Fit the pipeline to the training set: svc_scaled\n",
        "svc_scaled = pipeline.fit(X_train, y_train)\n",
        "\n",
        "# Instantiate and fit a classifier to the unscaled data\n",
        "svc_unscaled = SVC(kernel = 'linear').fit(X_train, y_train)\n",
        "\n",
        "# Compute and print metrics\n",
        "print('Accuracy with Scaling: {}'.format(svc_scaled.score(X_test, y_test)))\n",
        "print('Accuracy without Scaling: {}'.format(svc_unscaled.score(X_test, y_test)))\n"
      ]
    },
    {
      "cell_type": "markdown",
      "metadata": {
        "colab_type": "text",
        "id": "9bxO_NYuUJpN"
      },
      "source": [
        "### Generalization check\n",
        "Checking for overfitting or underfitting by comparing the training and testing scores of the model"
      ]
    },
    {
      "cell_type": "code",
      "execution_count": 67,
      "metadata": {
        "colab": {
          "base_uri": "https://localhost:8080/",
          "height": 51
        },
        "colab_type": "code",
        "id": "Ve1e2yVBivNT",
        "outputId": "46e085fa-7fe4-4a7b-da55-542f2d463c07"
      },
      "outputs": [
        {
          "name": "stdout",
          "output_type": "stream",
          "text": [
            "----train accuracy score 98.78444084278767 ----\n",
            "----test accuracy score 97.40820734341253 ----\n"
          ]
        }
      ],
      "source": [
        "train_acc = float(svc_scaled.score(X_train, y_train)*100)\n",
        "print(\"----train accuracy score %s ----\" % train_acc)\n",
        "\n",
        "test_acc = float(svc_scaled.score(X_test, y_test)*100)\n",
        "print(\"----test accuracy score %s ----\" % test_acc)"
      ]
    },
    {
      "cell_type": "code",
      "execution_count": 68,
      "metadata": {
        "colab": {},
        "colab_type": "code",
        "id": "JkMV4nVo2MBi"
      },
      "outputs": [],
      "source": [
        "scaled_predictions = svc_scaled.predict(X_test)"
      ]
    },
    {
      "cell_type": "markdown",
      "metadata": {
        "colab_type": "text",
        "id": "r_56D7h6WkOE"
      },
      "source": [
        "### Classification reports and Confusion Matrix"
      ]
    },
    {
      "cell_type": "code",
      "execution_count": 69,
      "metadata": {
        "colab": {
          "base_uri": "https://localhost:8080/",
          "height": 540
        },
        "colab_type": "code",
        "id": "oROt3FvXwMHK",
        "outputId": "58d34e5c-73fd-4f9e-fb52-9f7729523c5e"
      },
      "outputs": [
        {
          "name": "stdout",
          "output_type": "stream",
          "text": [
            "              precision    recall  f1-score   support\n",
            "\n",
            "           0       0.98      0.98      0.98       142\n",
            "           1       0.69      0.95      0.80        21\n",
            "           2       1.00      1.00      1.00       106\n",
            "           3       0.97      0.94      0.95       147\n",
            "           4       0.98      0.95      0.97       137\n",
            "           5       1.00      0.99      1.00       130\n",
            "           6       0.96      0.98      0.97       131\n",
            "           7       1.00      1.00      1.00       112\n",
            "\n",
            "    accuracy                           0.97       926\n",
            "   macro avg       0.95      0.97      0.96       926\n",
            "weighted avg       0.98      0.97      0.97       926\n",
            "\n",
            "----accuracy score 97.40820734341253 ----\n"
          ]
        },
        {
          "data": {
            "image/png": "[encoded data removed]",
            "text/plain": [
              "<Figure size 640x480 with 2 Axes>"
            ]
          },
          "metadata": {},
          "output_type": "display_data"
        }
      ],
      "source": [
        "from sklearn.metrics import classification_report, confusion_matrix,accuracy_score\n",
        "import seaborn as sn\n",
        "\n",
        "print(classification_report(y_test,scaled_predictions))\n",
        "\n",
        "acc = float(accuracy_score(y_test,scaled_predictions))*100\n",
        "print(\"----accuracy score %s ----\" % acc)\n",
        "\n",
        "cm = confusion_matrix(y_test,scaled_predictions)\n",
        "df_cm = pd.DataFrame(cm)\n",
        "sn.heatmap(df_cm, annot=True, fmt='')\n",
        "plt.show()"
      ]
    },
    {
      "cell_type": "markdown",
      "metadata": {
        "colab_type": "text",
        "id": "k7ay4Mx3WvIN"
      },
      "source": [
        "#### Cross Validation"
      ]
    },
    {
      "cell_type": "code",
      "execution_count": 70,
      "metadata": {
        "colab": {
          "base_uri": "https://localhost:8080/",
          "height": 34
        },
        "colab_type": "code",
        "id": "Yqo9QIL82ez-",
        "outputId": "ba6f2c4f-432d-42fe-f758-21e93bf9cb60"
      },
      "outputs": [
        {
          "name": "stdout",
          "output_type": "stream",
          "text": [
            "[0.97840173 0.96544276 0.97732181 0.97297297 0.96432432]\n"
          ]
        }
      ],
      "source": [
        "from sklearn.model_selection import cross_val_score\n",
        "\n",
        "# no. of folds cv = 5\n",
        "cv_results = cross_val_score(svc_scaled, X, y, cv = 5)\n",
        "print(cv_results)"
      ]
    },
    {
      "cell_type": "code",
      "execution_count": 72,
      "metadata": {},
      "outputs": [],
      "source": [
        "import pickle\n",
        "with open(\"SVM_model_with_scaling.pkl\", \"wb\") as f:\n",
        "    pickle.dump(svc_scaled, f)"
      ]
    }
  ],
  "metadata": {
    "colab": {
      "collapsed_sections": [
        "gmyFS7Ajj4PZ",
        "0kWl4SbrtiUP"
      ],
      "name": "SER-SVM.ipynb",
      "provenance": []
    },
    "kernelspec": {
      "display_name": "Python 3",
      "name": "python3"
    },
    "language_info": {
      "codemirror_mode": {
        "name": "ipython",
        "version": 3
      },
      "file_extension": ".py",
      "mimetype": "text/x-python",
      "name": "python",
      "nbconvert_exporter": "python",
      "pygments_lexer": "ipython3",
      "version": "3.11.7"
    }
  },
  "nbformat": 4,
  "nbformat_minor": 0
}
