{
 "cells": [
  {
   "cell_type": "markdown",
   "metadata": {},
   "source": [
    "# Speech Emotion Recognition - Feature Extraction\n",
    "\n",
    "Databases used\n",
    "\n",
    "* The Ryerson Audio-Visual Database of Emotional Speech and Song (RAVDESS)\n",
    "* Toronto emotional speech set (TESS)"
   ]
  },
  {
   "cell_type": "markdown",
   "metadata": {},
   "source": [
    "### Import Libraries\n",
    "\n",
    "Import necessary libraries"
   ]
  },
  {
   "cell_type": "code",
   "execution_count": 8,
   "metadata": {
    "colab": {},
    "colab_type": "code",
    "id": "4Psuv3UPLaPR"
   },
   "outputs": [],
   "source": [
    "import glob\n",
    "import os\n",
    "import librosa\n",
    "import time\n",
    "import numpy as np\n",
    "import pandas as pd\n",
    "from sklearn.model_selection import train_test_split"
   ]
  },
  {
   "cell_type": "markdown",
   "metadata": {
    "colab_type": "text",
    "id": "rBpIgx9bkdgJ"
   },
   "source": [
    "### Load all files\n",
    "\n",
    "We will create our numpy array extracting Mel-frequency cepstral coefficients (MFCCs) while the classes to predict will be extracted from the name of the file."
   ]
  },
  {
   "cell_type": "markdown",
   "metadata": {},
   "source": [
    "#### Defining emotions to classify \n",
    "\n",
    "Selecting the emotions to be classified. Note that the emotions 'neutral', 'calm' and 'surprised' are only found in RAVDESS dataset and 'pleasantly surprised' or 'ps' is only available in TESS dataset. To combine all the emotions from both datasets into 8 emotion classes, we have changed 'pleasantly surprised' to 'surprised' and 'fearful' to 'fear'"
   ]
  },
  {
   "cell_type": "code",
   "execution_count": 2,
   "metadata": {
    "colab": {},
    "colab_type": "code",
    "id": "s16XwP5LK8a3"
   },
   "outputs": [],
   "source": [
    "emotions={\n",
    "  '01':'neutral',\n",
    "  '02':'calm',\n",
    "  '03':'happy',\n",
    "  '04':'sad',\n",
    "  '05':'angry',\n",
    "  '06':'fear',\n",
    "  '07':'disgust',\n",
    "  '08':'surprised'\n",
    "}\n",
    "\n",
    "#defined tess emotions to test on TESS dataset only\n",
    "tess_emotions=['angry','disgust','fear','ps','happy','sad']\n",
    "\n",
    "##defined RAVDESS emotions to test on RAVDESS dataset only\n",
    "ravdess_emotions=['neutral','calm','angry', 'happy','disgust','sad','fear','surprised']\n",
    "\n",
    "observed_emotions = ['sad','angry','happy','disgust','surprised','neutral','calm','fear']"
   ]
  },
  {
   "cell_type": "markdown",
   "metadata": {},
   "source": [
    "#### Feature extraction\n",
    "\n",
    "Using librosa package we can extract the MFCC features. This function loads the file give the file path and after resampling and computing MFCC features, returns the features. We have selected the no. of MFCCs as 40.\n",
    "\n",
    "https://librosa.org/librosa/generated/librosa.feature.mfcc.html"
   ]
  },
  {
   "cell_type": "code",
   "execution_count": 27,
   "metadata": {
    "colab": {},
    "colab_type": "code",
    "id": "h9a81pkWLCs1"
   },
   "outputs": [],
   "source": [
    "def extract_feature(file_name, mfcc=True):\n",
    "    X, sample_rate = librosa.load(os.path.join(file_name), res_type='kaiser_fast')\n",
    "    result = np.array([])\n",
    "    if mfcc:\n",
    "        mfccs = np.mean(librosa.feature.mfcc(y=X, sr=sample_rate, n_mfcc=40).T, axis=0)\n",
    "        result = np.hstack((result, mfccs))\n",
    "    return result"
   ]
  },
  {
   "cell_type": "markdown",
   "metadata": {},
   "source": [
    "#### Choosing a dataset\n",
    "\n",
    "Choose the dataset(s) you want to load using the following function"
   ]
  },
  {
   "cell_type": "code",
   "execution_count": 21,
   "metadata": {},
   "outputs": [],
   "source": [
    "def dataset_options():\n",
    "    ravdess = True\n",
    "    tess = True\n",
    "    data = {'ravdess': ravdess, 'tess': tess}\n",
    "    print(data)\n",
    "    return data\n"
   ]
  },
  {
   "cell_type": "markdown",
   "metadata": {},
   "source": [
    "#### Load data\n",
    "\n",
    "Load data from the datasets required which is obtained by calling the function dataset__options(). Extract features from each file with the selected emotions in chosen datasets using the extract_feature() function defined."
   ]
  },
  {
   "cell_type": "code",
   "execution_count": 23,
   "metadata": {
    "colab": {},
    "colab_type": "code",
    "id": "RaV2hMcxLGZd"
   },
   "outputs": [],
   "source": [
    "def load_data(test_size=0.2): \n",
    "    x, y = [], []\n",
    "    \n",
    "    mfcc = True\n",
    "    \n",
    "    data = dataset_options()\n",
    "    paths = []\n",
    "    \n",
    "    if data['ravdess']:\n",
    "        paths.append(r\"C:\\Users\\ACER\\Downloads\\CNDMCK\\Audio\\Ravdess\\Actor_*\\*.wav\")\n",
    "        \n",
    "    for path in paths:\n",
    "        for file in glob.glob(path):\n",
    "            file_name = os.path.basename(file)\n",
    "            emotion = emotions[file_name.split(\"-\")[2]]\n",
    "            if emotion not in observed_emotions:\n",
    "                continue\n",
    "            feature = extract_feature(file, mfcc)\n",
    "            if feature.size == 0:\n",
    "                continue\n",
    "            x.append(feature)\n",
    "            y.append(emotion)\n",
    "    \n",
    "    if data['tess']:\n",
    "        for file in glob.glob(r\"C:\\Users\\ACER\\Downloads\\CNDMCK\\Audio\\TESS Toronto emotional speech set data\\*AF_*\\*.wav\"):\n",
    "            file_name = os.path.basename(file)\n",
    "            emotion = file_name.split(\"_\")[2][:-4] \n",
    "            if emotion == 'ps':\n",
    "                emotion = 'surprised'\n",
    "            if emotion not in observed_emotions:\n",
    "                continue\n",
    "            feature = extract_feature(file, mfcc)\n",
    "            if feature.size == 0:\n",
    "                continue\n",
    "            x.append(feature)\n",
    "            y.append(emotion)\n",
    "    \n",
    "    x = np.array(x)\n",
    "    y = np.array(y)\n",
    "    \n",
    "    if test_size > 0 and test_size < 1:\n",
    "        return train_test_split(x, y, test_size=test_size, random_state=42)\n",
    "    \n",
    "    return {\"X\": x, \"y\": y}\n"
   ]
  },
  {
   "cell_type": "code",
   "execution_count": 31,
   "metadata": {
    "colab": {
     "base_uri": "https://localhost:8080/",
     "height": 34
    },
    "colab_type": "code",
    "id": "LVbx68UMLMAT",
    "outputId": "51a46f14-72ff-4825-83c5-0ce8673f5307"
   },
   "outputs": [
    {
     "name": "stdout",
     "output_type": "stream",
     "text": [
      "{'ravdess': True, 'tess': True}\n",
      "--- Data loaded. Loading time: 105.68021988868713 seconds ---\n"
     ]
    }
   ],
   "source": [
    "start_time = time.time()\n",
    "\n",
    "X_train, X_test, y_train, y_test = load_data(test_size=0.3)\n",
    "\n",
    "print(\"--- Data loaded. Loading time: %s seconds ---\" % (time.time() - start_time))"
   ]
  },
  {
   "cell_type": "code",
   "execution_count": 35,
   "metadata": {
    "colab": {},
    "colab_type": "code",
    "id": "-WAO-j4iLPSn"
   },
   "outputs": [],
   "source": [
    "X = pd.DataFrame(X_train)\n",
    "y = pd.DataFrame(y_train)"
   ]
  },
  {
   "cell_type": "code",
   "execution_count": 36,
   "metadata": {
    "colab": {
     "base_uri": "https://localhost:8080/",
     "height": 34
    },
    "colab_type": "code",
    "id": "Huw2Md1XLQZm",
    "outputId": "6a6cf90d-8449-4990-8bce-af37d4b50706"
   },
   "outputs": [
    {
     "data": {
      "text/plain": [
       "((4628, 40), (4628, 1))"
      ]
     },
     "execution_count": 36,
     "metadata": {},
     "output_type": "execute_result"
    }
   ],
   "source": [
    "X.shape, y.shape"
   ]
  },
  {
   "cell_type": "code",
   "execution_count": 37,
   "metadata": {},
   "outputs": [],
   "source": [
    "#renaming the label column to emotion\n",
    "y=y.rename(columns= {0: 'emotion'})"
   ]
  },
  {
   "cell_type": "code",
   "execution_count": 38,
   "metadata": {},
   "outputs": [],
   "source": [
    "#concatinating the attributes and label into a single dataframe\n",
    "data = pd.concat([X, y], axis =1)"
   ]
  },
  {
   "cell_type": "code",
   "execution_count": 39,
   "metadata": {},
   "outputs": [
    {
     "data": {
      "text/html": [
       "<div>\n",
       "<style scoped>\n",
       "    .dataframe tbody tr th:only-of-type {\n",
       "        vertical-align: middle;\n",
       "    }\n",
       "\n",
       "    .dataframe tbody tr th {\n",
       "        vertical-align: top;\n",
       "    }\n",
       "\n",
       "    .dataframe thead th {\n",
       "        text-align: right;\n",
       "    }\n",
       "</style>\n",
       "<table border=\"1\" class=\"dataframe\">\n",
       "  <thead>\n",
       "    <tr style=\"text-align: right;\">\n",
       "      <th></th>\n",
       "      <th>0</th>\n",
       "      <th>1</th>\n",
       "      <th>2</th>\n",
       "      <th>3</th>\n",
       "      <th>4</th>\n",
       "      <th>5</th>\n",
       "      <th>6</th>\n",
       "      <th>7</th>\n",
       "      <th>8</th>\n",
       "      <th>9</th>\n",
       "      <th>...</th>\n",
       "      <th>31</th>\n",
       "      <th>32</th>\n",
       "      <th>33</th>\n",
       "      <th>34</th>\n",
       "      <th>35</th>\n",
       "      <th>36</th>\n",
       "      <th>37</th>\n",
       "      <th>38</th>\n",
       "      <th>39</th>\n",
       "      <th>emotion</th>\n",
       "    </tr>\n",
       "  </thead>\n",
       "  <tbody>\n",
       "    <tr>\n",
       "      <th>0</th>\n",
       "      <td>-431.243591</td>\n",
       "      <td>61.921501</td>\n",
       "      <td>9.751375</td>\n",
       "      <td>1.418937</td>\n",
       "      <td>-12.196798</td>\n",
       "      <td>3.748008</td>\n",
       "      <td>-17.486868</td>\n",
       "      <td>5.173080</td>\n",
       "      <td>-22.647293</td>\n",
       "      <td>1.887928</td>\n",
       "      <td>...</td>\n",
       "      <td>-0.156624</td>\n",
       "      <td>-1.322961</td>\n",
       "      <td>-5.576677</td>\n",
       "      <td>1.478981</td>\n",
       "      <td>2.641849</td>\n",
       "      <td>-4.475389</td>\n",
       "      <td>-0.878444</td>\n",
       "      <td>-3.821297</td>\n",
       "      <td>0.388660</td>\n",
       "      <td>fear</td>\n",
       "    </tr>\n",
       "    <tr>\n",
       "      <th>1</th>\n",
       "      <td>-423.856323</td>\n",
       "      <td>74.048065</td>\n",
       "      <td>22.511642</td>\n",
       "      <td>43.370129</td>\n",
       "      <td>-4.376185</td>\n",
       "      <td>14.910736</td>\n",
       "      <td>-7.447438</td>\n",
       "      <td>-0.875301</td>\n",
       "      <td>0.658448</td>\n",
       "      <td>-1.253023</td>\n",
       "      <td>...</td>\n",
       "      <td>11.257979</td>\n",
       "      <td>8.610000</td>\n",
       "      <td>8.186172</td>\n",
       "      <td>3.266101</td>\n",
       "      <td>1.137581</td>\n",
       "      <td>1.695827</td>\n",
       "      <td>0.648322</td>\n",
       "      <td>4.733205</td>\n",
       "      <td>2.931621</td>\n",
       "      <td>sad</td>\n",
       "    </tr>\n",
       "    <tr>\n",
       "      <th>2</th>\n",
       "      <td>-440.094177</td>\n",
       "      <td>102.067924</td>\n",
       "      <td>10.340258</td>\n",
       "      <td>1.027507</td>\n",
       "      <td>-1.292437</td>\n",
       "      <td>-0.338838</td>\n",
       "      <td>-17.597439</td>\n",
       "      <td>7.701941</td>\n",
       "      <td>-23.524864</td>\n",
       "      <td>0.057053</td>\n",
       "      <td>...</td>\n",
       "      <td>-0.619042</td>\n",
       "      <td>-0.432404</td>\n",
       "      <td>0.116134</td>\n",
       "      <td>6.217259</td>\n",
       "      <td>4.475646</td>\n",
       "      <td>8.476109</td>\n",
       "      <td>8.896357</td>\n",
       "      <td>9.631824</td>\n",
       "      <td>5.617397</td>\n",
       "      <td>surprised</td>\n",
       "    </tr>\n",
       "    <tr>\n",
       "      <th>3</th>\n",
       "      <td>-402.145447</td>\n",
       "      <td>72.167290</td>\n",
       "      <td>-10.806440</td>\n",
       "      <td>22.636204</td>\n",
       "      <td>-7.473465</td>\n",
       "      <td>-6.302497</td>\n",
       "      <td>-16.086420</td>\n",
       "      <td>-4.700330</td>\n",
       "      <td>-13.415092</td>\n",
       "      <td>0.882514</td>\n",
       "      <td>...</td>\n",
       "      <td>1.472952</td>\n",
       "      <td>3.017743</td>\n",
       "      <td>-0.043461</td>\n",
       "      <td>4.730020</td>\n",
       "      <td>2.318131</td>\n",
       "      <td>4.943650</td>\n",
       "      <td>4.500614</td>\n",
       "      <td>4.626682</td>\n",
       "      <td>5.656787</td>\n",
       "      <td>disgust</td>\n",
       "    </tr>\n",
       "    <tr>\n",
       "      <th>4</th>\n",
       "      <td>-318.353851</td>\n",
       "      <td>34.182625</td>\n",
       "      <td>-15.095026</td>\n",
       "      <td>34.088593</td>\n",
       "      <td>-8.727753</td>\n",
       "      <td>-7.272490</td>\n",
       "      <td>-13.546126</td>\n",
       "      <td>-4.402505</td>\n",
       "      <td>-3.859099</td>\n",
       "      <td>-4.075391</td>\n",
       "      <td>...</td>\n",
       "      <td>5.230363</td>\n",
       "      <td>-2.069111</td>\n",
       "      <td>-5.220823</td>\n",
       "      <td>-2.010141</td>\n",
       "      <td>2.591809</td>\n",
       "      <td>1.111715</td>\n",
       "      <td>-1.476474</td>\n",
       "      <td>-2.530045</td>\n",
       "      <td>1.001491</td>\n",
       "      <td>happy</td>\n",
       "    </tr>\n",
       "  </tbody>\n",
       "</table>\n",
       "<p>5 rows × 41 columns</p>\n",
       "</div>"
      ],
      "text/plain": [
       "            0           1          2          3          4          5  \\\n",
       "0 -431.243591   61.921501   9.751375   1.418937 -12.196798   3.748008   \n",
       "1 -423.856323   74.048065  22.511642  43.370129  -4.376185  14.910736   \n",
       "2 -440.094177  102.067924  10.340258   1.027507  -1.292437  -0.338838   \n",
       "3 -402.145447   72.167290 -10.806440  22.636204  -7.473465  -6.302497   \n",
       "4 -318.353851   34.182625 -15.095026  34.088593  -8.727753  -7.272490   \n",
       "\n",
       "           6         7          8         9  ...         31        32  \\\n",
       "0 -17.486868  5.173080 -22.647293  1.887928  ...  -0.156624 -1.322961   \n",
       "1  -7.447438 -0.875301   0.658448 -1.253023  ...  11.257979  8.610000   \n",
       "2 -17.597439  7.701941 -23.524864  0.057053  ...  -0.619042 -0.432404   \n",
       "3 -16.086420 -4.700330 -13.415092  0.882514  ...   1.472952  3.017743   \n",
       "4 -13.546126 -4.402505  -3.859099 -4.075391  ...   5.230363 -2.069111   \n",
       "\n",
       "         33        34        35        36        37        38        39  \\\n",
       "0 -5.576677  1.478981  2.641849 -4.475389 -0.878444 -3.821297  0.388660   \n",
       "1  8.186172  3.266101  1.137581  1.695827  0.648322  4.733205  2.931621   \n",
       "2  0.116134  6.217259  4.475646  8.476109  8.896357  9.631824  5.617397   \n",
       "3 -0.043461  4.730020  2.318131  4.943650  4.500614  4.626682  5.656787   \n",
       "4 -5.220823 -2.010141  2.591809  1.111715 -1.476474 -2.530045  1.001491   \n",
       "\n",
       "     emotion  \n",
       "0       fear  \n",
       "1        sad  \n",
       "2  surprised  \n",
       "3    disgust  \n",
       "4      happy  \n",
       "\n",
       "[5 rows x 41 columns]"
      ]
     },
     "execution_count": 39,
     "metadata": {},
     "output_type": "execute_result"
    }
   ],
   "source": [
    "data.head()"
   ]
  },
  {
   "cell_type": "markdown",
   "metadata": {},
   "source": [
    "## Shuffling data"
   ]
  },
  {
   "cell_type": "code",
   "execution_count": 40,
   "metadata": {},
   "outputs": [],
   "source": [
    "#reindexing to shuffle the data at random\n",
    "data = data.reindex(np.random.permutation(data.index))"
   ]
  },
  {
   "cell_type": "code",
   "execution_count": 41,
   "metadata": {},
   "outputs": [],
   "source": [
    "# Storing shuffled ravdess and tess data to avoid loading again\n",
    "data.to_csv(\"RAVTESS_MFCC_Observed.csv\")"
   ]
  }
 ],
 "metadata": {
  "colab": {
   "collapsed_sections": [],
   "name": "SVM trial 2.ipynb",
   "provenance": []
  },
  "kernelspec": {
   "display_name": "Python 3",
   "language": "python",
   "name": "python3"
  },
  "language_info": {
   "codemirror_mode": {
    "name": "ipython",
    "version": 3
   },
   "file_extension": ".py",
   "mimetype": "text/x-python",
   "name": "python",
   "nbconvert_exporter": "python",
   "pygments_lexer": "ipython3",
   "version": "3.11.7"
  }
 },
 "nbformat": 4,
 "nbformat_minor": 1
}
